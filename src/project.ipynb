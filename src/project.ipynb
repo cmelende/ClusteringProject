{
 "metadata": {
  "language_info": {
   "codemirror_mode": {
    "name": "ipython",
    "version": 3
   },
   "file_extension": ".py",
   "mimetype": "text/x-python",
   "name": "python",
   "nbconvert_exporter": "python",
   "pygments_lexer": "ipython3",
   "version": "3.8.3-final"
  },
  "orig_nbformat": 2,
  "kernelspec": {
   "name": "python_defaultSpec_1600397733114",
   "display_name": "Python 3.8.3 32-bit ('venv': venv)"
  }
 },
 "nbformat": 4,
 "nbformat_minor": 2,
 "cells": [
  {
   "source": [
    "### Cory Melendez\n",
    "### Clustering Project\n",
    "### 9/17/2020\n",
    "### Github Link: https://github.com/cmelende/ClusteringProject.git"
   ],
   "cell_type": "markdown",
   "metadata": {}
  },
  {
   "cell_type": "code",
   "execution_count": 21,
   "metadata": {},
   "outputs": [],
   "source": [
    "import pandas as pd\n",
    "from univariateAnalysis import UniVariateAnalysis, UniVariateReport, OutlierFilter\n",
    "from metrics import Metrics\n"
   ]
  },
  {
   "cell_type": "code",
   "execution_count": 22,
   "metadata": {},
   "outputs": [],
   "source": [
    "credit_card_df = pd.read_excel(\"Credit Card Customer Data.xlsx\")\n",
    "all_cols = ['Sl_No','Customer Key','Avg_Credit_Limit','Total_Credit_Cards','Total_visits_bank','Total_visits_online','Total_calls_made']\n",
    "print_graph = True\n",
    "def print_all_uni_analysis_reports(df,columnNames):\n",
    "    seperator = '---------------------------------------------'\n",
    "    for column in columnNames:\n",
    "        analysis = UniVariateAnalysis(df, column)\n",
    "        analysis_report = UniVariateReport(analysis)\n",
    "\n",
    "        print(seperator)\n",
    "        print(f'\\'{column}\\' column univariate analysis report')\n",
    "        print(seperator)\n",
    "\n",
    "        analysis_report.print_report()"
   ]
  },
  {
   "cell_type": "code",
   "execution_count": 23,
   "metadata": {},
   "outputs": [
    {
     "output_type": "execute_result",
     "data": {
      "text/plain": "   Sl_No  Customer Key  Avg_Credit_Limit  Total_Credit_Cards  \\\n0      1         87073            100000                   2   \n1      2         38414             50000                   3   \n2      3         17341             50000                   7   \n3      4         40496             30000                   5   \n4      5         47437            100000                   6   \n\n   Total_visits_bank  Total_visits_online  Total_calls_made  \n0                  1                    1                 0  \n1                  0                   10                 9  \n2                  1                    3                 4  \n3                  1                    1                 4  \n4                  0                   12                 3  ",
      "text/html": "<div>\n<style scoped>\n    .dataframe tbody tr th:only-of-type {\n        vertical-align: middle;\n    }\n\n    .dataframe tbody tr th {\n        vertical-align: top;\n    }\n\n    .dataframe thead th {\n        text-align: right;\n    }\n</style>\n<table border=\"1\" class=\"dataframe\">\n  <thead>\n    <tr style=\"text-align: right;\">\n      <th></th>\n      <th>Sl_No</th>\n      <th>Customer Key</th>\n      <th>Avg_Credit_Limit</th>\n      <th>Total_Credit_Cards</th>\n      <th>Total_visits_bank</th>\n      <th>Total_visits_online</th>\n      <th>Total_calls_made</th>\n    </tr>\n  </thead>\n  <tbody>\n    <tr>\n      <th>0</th>\n      <td>1</td>\n      <td>87073</td>\n      <td>100000</td>\n      <td>2</td>\n      <td>1</td>\n      <td>1</td>\n      <td>0</td>\n    </tr>\n    <tr>\n      <th>1</th>\n      <td>2</td>\n      <td>38414</td>\n      <td>50000</td>\n      <td>3</td>\n      <td>0</td>\n      <td>10</td>\n      <td>9</td>\n    </tr>\n    <tr>\n      <th>2</th>\n      <td>3</td>\n      <td>17341</td>\n      <td>50000</td>\n      <td>7</td>\n      <td>1</td>\n      <td>3</td>\n      <td>4</td>\n    </tr>\n    <tr>\n      <th>3</th>\n      <td>4</td>\n      <td>40496</td>\n      <td>30000</td>\n      <td>5</td>\n      <td>1</td>\n      <td>1</td>\n      <td>4</td>\n    </tr>\n    <tr>\n      <th>4</th>\n      <td>5</td>\n      <td>47437</td>\n      <td>100000</td>\n      <td>6</td>\n      <td>0</td>\n      <td>12</td>\n      <td>3</td>\n    </tr>\n  </tbody>\n</table>\n</div>"
     },
     "metadata": {},
     "execution_count": 23
    }
   ],
   "source": [
    "credit_card_df.head()"
   ]
  },
  {
   "cell_type": "code",
   "execution_count": 24,
   "metadata": {
    "tags": []
   },
   "outputs": [
    {
     "output_type": "stream",
     "name": "stdout",
     "text": "<class 'pandas.core.frame.DataFrame'>\nRangeIndex: 660 entries, 0 to 659\nData columns (total 7 columns):\n #   Column               Non-Null Count  Dtype\n---  ------               --------------  -----\n 0   Sl_No                660 non-null    int64\n 1   Customer Key         660 non-null    int64\n 2   Avg_Credit_Limit     660 non-null    int64\n 3   Total_Credit_Cards   660 non-null    int64\n 4   Total_visits_bank    660 non-null    int64\n 5   Total_visits_online  660 non-null    int64\n 6   Total_calls_made     660 non-null    int64\ndtypes: int64(7)\nmemory usage: 36.2 KB\n"
    }
   ],
   "source": [
    "credit_card_df.info()"
   ]
  },
  {
   "cell_type": "code",
   "execution_count": 25,
   "metadata": {},
   "outputs": [
    {
     "output_type": "execute_result",
     "data": {
      "text/plain": "            Sl_No  Customer Key  Avg_Credit_Limit  Total_Credit_Cards  \\\ncount  660.000000    660.000000        660.000000          660.000000   \nmean   330.500000  55141.443939      34574.242424            4.706061   \nstd    190.669872  25627.772200      37625.487804            2.167835   \nmin      1.000000  11265.000000       3000.000000            1.000000   \n25%    165.750000  33825.250000      10000.000000            3.000000   \n50%    330.500000  53874.500000      18000.000000            5.000000   \n75%    495.250000  77202.500000      48000.000000            6.000000   \nmax    660.000000  99843.000000     200000.000000           10.000000   \n\n       Total_visits_bank  Total_visits_online  Total_calls_made  \ncount         660.000000           660.000000        660.000000  \nmean            2.403030             2.606061          3.583333  \nstd             1.631813             2.935724          2.865317  \nmin             0.000000             0.000000          0.000000  \n25%             1.000000             1.000000          1.000000  \n50%             2.000000             2.000000          3.000000  \n75%             4.000000             4.000000          5.000000  \nmax             5.000000            15.000000         10.000000  ",
      "text/html": "<div>\n<style scoped>\n    .dataframe tbody tr th:only-of-type {\n        vertical-align: middle;\n    }\n\n    .dataframe tbody tr th {\n        vertical-align: top;\n    }\n\n    .dataframe thead th {\n        text-align: right;\n    }\n</style>\n<table border=\"1\" class=\"dataframe\">\n  <thead>\n    <tr style=\"text-align: right;\">\n      <th></th>\n      <th>Sl_No</th>\n      <th>Customer Key</th>\n      <th>Avg_Credit_Limit</th>\n      <th>Total_Credit_Cards</th>\n      <th>Total_visits_bank</th>\n      <th>Total_visits_online</th>\n      <th>Total_calls_made</th>\n    </tr>\n  </thead>\n  <tbody>\n    <tr>\n      <th>count</th>\n      <td>660.000000</td>\n      <td>660.000000</td>\n      <td>660.000000</td>\n      <td>660.000000</td>\n      <td>660.000000</td>\n      <td>660.000000</td>\n      <td>660.000000</td>\n    </tr>\n    <tr>\n      <th>mean</th>\n      <td>330.500000</td>\n      <td>55141.443939</td>\n      <td>34574.242424</td>\n      <td>4.706061</td>\n      <td>2.403030</td>\n      <td>2.606061</td>\n      <td>3.583333</td>\n    </tr>\n    <tr>\n      <th>std</th>\n      <td>190.669872</td>\n      <td>25627.772200</td>\n      <td>37625.487804</td>\n      <td>2.167835</td>\n      <td>1.631813</td>\n      <td>2.935724</td>\n      <td>2.865317</td>\n    </tr>\n    <tr>\n      <th>min</th>\n      <td>1.000000</td>\n      <td>11265.000000</td>\n      <td>3000.000000</td>\n      <td>1.000000</td>\n      <td>0.000000</td>\n      <td>0.000000</td>\n      <td>0.000000</td>\n    </tr>\n    <tr>\n      <th>25%</th>\n      <td>165.750000</td>\n      <td>33825.250000</td>\n      <td>10000.000000</td>\n      <td>3.000000</td>\n      <td>1.000000</td>\n      <td>1.000000</td>\n      <td>1.000000</td>\n    </tr>\n    <tr>\n      <th>50%</th>\n      <td>330.500000</td>\n      <td>53874.500000</td>\n      <td>18000.000000</td>\n      <td>5.000000</td>\n      <td>2.000000</td>\n      <td>2.000000</td>\n      <td>3.000000</td>\n    </tr>\n    <tr>\n      <th>75%</th>\n      <td>495.250000</td>\n      <td>77202.500000</td>\n      <td>48000.000000</td>\n      <td>6.000000</td>\n      <td>4.000000</td>\n      <td>4.000000</td>\n      <td>5.000000</td>\n    </tr>\n    <tr>\n      <th>max</th>\n      <td>660.000000</td>\n      <td>99843.000000</td>\n      <td>200000.000000</td>\n      <td>10.000000</td>\n      <td>5.000000</td>\n      <td>15.000000</td>\n      <td>10.000000</td>\n    </tr>\n  </tbody>\n</table>\n</div>"
     },
     "metadata": {},
     "execution_count": 25
    }
   ],
   "source": [
    "credit_card_df.describe()"
   ]
  },
  {
   "cell_type": "code",
   "execution_count": 26,
   "metadata": {},
   "outputs": [
    {
     "output_type": "execute_result",
     "data": {
      "text/plain": "False"
     },
     "metadata": {},
     "execution_count": 26
    }
   ],
   "source": [
    "# check to see if there are any NaN\n",
    "credit_card_df.isnull().values.any()"
   ]
  },
  {
   "source": [
    "## TODO: Univariate Analysis\n"
   ],
   "cell_type": "markdown",
   "metadata": {}
  },
  {
   "source": [
    "The columns 'Avg_Credit_Limit', 'Total_visits_online' have several outliers"
   ],
   "cell_type": "markdown",
   "metadata": {}
  },
  {
   "cell_type": "code",
   "execution_count": 27,
   "metadata": {
    "tags": []
   },
   "outputs": [
    {
     "output_type": "stream",
     "name": "stdout",
     "text": "---------------------------------------------\n'Sl_No' column univariate analysis report\n---------------------------------------------\nData type:  int64\nRange of values: (1, 660)\nStandard deviation:  190.66987176793296\nQ1:  165.75\nQ2:  330.5\nQ3:  495.25\nQ4:  660.0\nMean:  330.5\nMin:  1\nMedian:  330.5\nMax:  660\nTop whisker:  989.5\nBottom whisker:  -328.5\nNumber of outliers above the top whisker:  0\nNumber of outliers below the bottom whisker:  0\n---------------------------------------------\n'Customer Key' column univariate analysis report\n---------------------------------------------\nData type:  int64\nRange of values: (11265, 99843)\nStandard deviation:  25627.772200050316\nQ1:  33825.25\nQ2:  53874.5\nQ3:  77202.5\nQ4:  99843.0\nMean:  55141.44393939394\nMin:  11265\nMedian:  53874.5\nMax:  99843\nTop whisker:  142268.375\nBottom whisker:  -31240.625\nNumber of outliers above the top whisker:  0\nNumber of outliers below the bottom whisker:  0\n---------------------------------------------\n'Avg_Credit_Limit' column univariate analysis report\n---------------------------------------------\nData type:  int64\nRange of values: (3000, 200000)\nStandard deviation:  37625.48780422166\nQ1:  10000.0\nQ2:  18000.0\nQ3:  48000.0\nQ4:  200000.0\nMean:  34574.242424242424\nMin:  3000\nMedian:  18000.0\nMax:  200000\nTop whisker:  105000.0\nBottom whisker:  -47000.0\nNumber of outliers above the top whisker:  39\nIndices of higher outlier rows\n1) 612\n2) 614\n3) 615\n4) 617\n5) 618\n6) 619\n7) 620\n8) 621\n9) 622\n10) 623\n11) 624\n12) 626\n13) 627\n14) 629\n15) 630\n16) 631\n17) 632\n18) 633\n19) 634\n20) 635\n21) 636\n22) 637\n23) 638\n24) 639\n25) 640\n26) 641\n27) 644\n28) 645\n29) 646\n30) 647\n31) 648\n32) 649\n33) 650\n34) 651\n35) 652\n36) 654\n37) 657\n38) 658\n39) 659\nNumber of outliers below the bottom whisker:  0\n---------------------------------------------\n'Total_Credit_Cards' column univariate analysis report\n---------------------------------------------\nData type:  int64\nRange of values: (1, 10)\nStandard deviation:  2.167834859511195\nQ1:  3.0\nQ2:  5.0\nQ3:  6.0\nQ4:  10.0\nMean:  4.706060606060606\nMin:  1\nMedian:  5.0\nMax:  10\nTop whisker:  10.5\nBottom whisker:  -1.5\nNumber of outliers above the top whisker:  0\nNumber of outliers below the bottom whisker:  0\n---------------------------------------------\n'Total_visits_bank' column univariate analysis report\n---------------------------------------------\nData type:  int64\nRange of values: (0, 5)\nStandard deviation:  1.631812875791615\nQ1:  1.0\nQ2:  2.0\nQ3:  4.0\nQ4:  5.0\nMean:  2.403030303030303\nMin:  0\nMedian:  2.0\nMax:  5\nTop whisker:  8.5\nBottom whisker:  -3.5\nNumber of outliers above the top whisker:  0\nNumber of outliers below the bottom whisker:  0\n---------------------------------------------\n'Total_visits_online' column univariate analysis report\n---------------------------------------------\nData type:  int64\nRange of values: (0, 15)\nStandard deviation:  2.9357241204935423\nQ1:  1.0\nQ2:  2.0\nQ3:  4.0\nQ4:  15.0\nMean:  2.606060606060606\nMin:  0\nMedian:  2.0\nMax:  15\nTop whisker:  8.5\nBottom whisker:  -3.5\nNumber of outliers above the top whisker:  37\nIndices of higher outlier rows\n1) 1\n2) 4\n3) 6\n4) 612\n5) 613\n6) 615\n7) 616\n8) 617\n9) 618\n10) 619\n11) 620\n12) 621\n13) 622\n14) 624\n15) 626\n16) 627\n17) 628\n18) 630\n19) 631\n20) 633\n21) 637\n22) 639\n23) 640\n24) 641\n25) 642\n26) 644\n27) 645\n28) 647\n29) 650\n30) 651\n31) 653\n32) 654\n33) 655\n34) 656\n35) 657\n36) 658\n37) 659\nNumber of outliers below the bottom whisker:  0\n---------------------------------------------\n'Total_calls_made' column univariate analysis report\n---------------------------------------------\nData type:  int64\nRange of values: (0, 10)\nStandard deviation:  2.8653168176227113\nQ1:  1.0\nQ2:  3.0\nQ3:  5.0\nQ4:  10.0\nMean:  3.5833333333333335\nMin:  0\nMedian:  3.0\nMax:  10\nTop whisker:  11.0\nBottom whisker:  -5.0\nNumber of outliers above the top whisker:  0\nNumber of outliers below the bottom whisker:  0\n"
    }
   ],
   "source": [
    "print_all_uni_analysis_reports(credit_card_df, all_cols)"
   ]
  },
  {
   "cell_type": "code",
   "execution_count": 28,
   "metadata": {},
   "outputs": [],
   "source": [
    "outlier_filter = OutlierFilter(credit_card_df, all_cols)\n",
    "credit_card_df_no_outliers = outlier_filter.get_df_without_outliers()"
   ]
  },
  {
   "cell_type": "code",
   "execution_count": 29,
   "metadata": {},
   "outputs": [
    {
     "output_type": "execute_result",
     "data": {
      "text/plain": "   Sl_No  Customer Key  Avg_Credit_Limit  Total_Credit_Cards  \\\n0      1         87073            100000                   2   \n2      3         17341             50000                   7   \n3      4         40496             30000                   5   \n5      6         58634             20000                   3   \n7      8         37376             15000                   3   \n\n   Total_visits_bank  Total_visits_online  Total_calls_made  \n0                  1                    1                 0  \n2                  1                    3                 4  \n3                  1                    1                 4  \n5                  0                    1                 8  \n7                  0                    1                 1  ",
      "text/html": "<div>\n<style scoped>\n    .dataframe tbody tr th:only-of-type {\n        vertical-align: middle;\n    }\n\n    .dataframe tbody tr th {\n        vertical-align: top;\n    }\n\n    .dataframe thead th {\n        text-align: right;\n    }\n</style>\n<table border=\"1\" class=\"dataframe\">\n  <thead>\n    <tr style=\"text-align: right;\">\n      <th></th>\n      <th>Sl_No</th>\n      <th>Customer Key</th>\n      <th>Avg_Credit_Limit</th>\n      <th>Total_Credit_Cards</th>\n      <th>Total_visits_bank</th>\n      <th>Total_visits_online</th>\n      <th>Total_calls_made</th>\n    </tr>\n  </thead>\n  <tbody>\n    <tr>\n      <th>0</th>\n      <td>1</td>\n      <td>87073</td>\n      <td>100000</td>\n      <td>2</td>\n      <td>1</td>\n      <td>1</td>\n      <td>0</td>\n    </tr>\n    <tr>\n      <th>2</th>\n      <td>3</td>\n      <td>17341</td>\n      <td>50000</td>\n      <td>7</td>\n      <td>1</td>\n      <td>3</td>\n      <td>4</td>\n    </tr>\n    <tr>\n      <th>3</th>\n      <td>4</td>\n      <td>40496</td>\n      <td>30000</td>\n      <td>5</td>\n      <td>1</td>\n      <td>1</td>\n      <td>4</td>\n    </tr>\n    <tr>\n      <th>5</th>\n      <td>6</td>\n      <td>58634</td>\n      <td>20000</td>\n      <td>3</td>\n      <td>0</td>\n      <td>1</td>\n      <td>8</td>\n    </tr>\n    <tr>\n      <th>7</th>\n      <td>8</td>\n      <td>37376</td>\n      <td>15000</td>\n      <td>3</td>\n      <td>0</td>\n      <td>1</td>\n      <td>1</td>\n    </tr>\n  </tbody>\n</table>\n</div>"
     },
     "metadata": {},
     "execution_count": 29
    }
   ],
   "source": [
    "credit_card_df_no_outliers.head()"
   ]
  },
  {
   "cell_type": "code",
   "execution_count": 30,
   "metadata": {},
   "outputs": [
    {
     "output_type": "execute_result",
     "data": {
      "text/plain": "            Sl_No  Customer Key  Avg_Credit_Limit  Total_Credit_Cards  \\\ncount  611.000000    611.000000        611.000000          611.000000   \nmean   309.057283  54991.862520      26032.733224            4.391162   \nstd    176.674012  25552.363847      21054.003371            1.885889   \nmin      1.000000  11265.000000       3000.000000            1.000000   \n25%    156.500000  33890.500000      10000.000000            3.000000   \n50%    309.000000  53898.000000      17000.000000            4.000000   \n75%    461.500000  76605.000000      39000.000000            6.000000   \nmax    644.000000  99596.000000     100000.000000            9.000000   \n\n       Total_visits_bank  Total_visits_online  Total_calls_made  \ncount         611.000000           611.000000        611.000000  \nmean            2.548282             1.929624          3.772504  \nstd             1.603953             1.588882          2.867963  \nmin             0.000000             0.000000          0.000000  \n25%             1.000000             1.000000          1.000000  \n50%             2.000000             2.000000          3.000000  \n75%             4.000000             3.000000          6.000000  \nmax             5.000000             8.000000         10.000000  ",
      "text/html": "<div>\n<style scoped>\n    .dataframe tbody tr th:only-of-type {\n        vertical-align: middle;\n    }\n\n    .dataframe tbody tr th {\n        vertical-align: top;\n    }\n\n    .dataframe thead th {\n        text-align: right;\n    }\n</style>\n<table border=\"1\" class=\"dataframe\">\n  <thead>\n    <tr style=\"text-align: right;\">\n      <th></th>\n      <th>Sl_No</th>\n      <th>Customer Key</th>\n      <th>Avg_Credit_Limit</th>\n      <th>Total_Credit_Cards</th>\n      <th>Total_visits_bank</th>\n      <th>Total_visits_online</th>\n      <th>Total_calls_made</th>\n    </tr>\n  </thead>\n  <tbody>\n    <tr>\n      <th>count</th>\n      <td>611.000000</td>\n      <td>611.000000</td>\n      <td>611.000000</td>\n      <td>611.000000</td>\n      <td>611.000000</td>\n      <td>611.000000</td>\n      <td>611.000000</td>\n    </tr>\n    <tr>\n      <th>mean</th>\n      <td>309.057283</td>\n      <td>54991.862520</td>\n      <td>26032.733224</td>\n      <td>4.391162</td>\n      <td>2.548282</td>\n      <td>1.929624</td>\n      <td>3.772504</td>\n    </tr>\n    <tr>\n      <th>std</th>\n      <td>176.674012</td>\n      <td>25552.363847</td>\n      <td>21054.003371</td>\n      <td>1.885889</td>\n      <td>1.603953</td>\n      <td>1.588882</td>\n      <td>2.867963</td>\n    </tr>\n    <tr>\n      <th>min</th>\n      <td>1.000000</td>\n      <td>11265.000000</td>\n      <td>3000.000000</td>\n      <td>1.000000</td>\n      <td>0.000000</td>\n      <td>0.000000</td>\n      <td>0.000000</td>\n    </tr>\n    <tr>\n      <th>25%</th>\n      <td>156.500000</td>\n      <td>33890.500000</td>\n      <td>10000.000000</td>\n      <td>3.000000</td>\n      <td>1.000000</td>\n      <td>1.000000</td>\n      <td>1.000000</td>\n    </tr>\n    <tr>\n      <th>50%</th>\n      <td>309.000000</td>\n      <td>53898.000000</td>\n      <td>17000.000000</td>\n      <td>4.000000</td>\n      <td>2.000000</td>\n      <td>2.000000</td>\n      <td>3.000000</td>\n    </tr>\n    <tr>\n      <th>75%</th>\n      <td>461.500000</td>\n      <td>76605.000000</td>\n      <td>39000.000000</td>\n      <td>6.000000</td>\n      <td>4.000000</td>\n      <td>3.000000</td>\n      <td>6.000000</td>\n    </tr>\n    <tr>\n      <th>max</th>\n      <td>644.000000</td>\n      <td>99596.000000</td>\n      <td>100000.000000</td>\n      <td>9.000000</td>\n      <td>5.000000</td>\n      <td>8.000000</td>\n      <td>10.000000</td>\n    </tr>\n  </tbody>\n</table>\n</div>"
     },
     "metadata": {},
     "execution_count": 30
    }
   ],
   "source": [
    "credit_card_df_no_outliers.describe()"
   ]
  },
  {
   "cell_type": "code",
   "execution_count": 31,
   "metadata": {
    "tags": []
   },
   "outputs": [
    {
     "output_type": "stream",
     "name": "stdout",
     "text": "<class 'pandas.core.frame.DataFrame'>\nRangeIndex: 660 entries, 0 to 659\nData columns (total 7 columns):\n #   Column               Non-Null Count  Dtype\n---  ------               --------------  -----\n 0   Sl_No                660 non-null    int64\n 1   Customer Key         660 non-null    int64\n 2   Avg_Credit_Limit     660 non-null    int64\n 3   Total_Credit_Cards   660 non-null    int64\n 4   Total_visits_bank    660 non-null    int64\n 5   Total_visits_online  660 non-null    int64\n 6   Total_calls_made     660 non-null    int64\ndtypes: int64(7)\nmemory usage: 36.2 KB\n"
    }
   ],
   "source": [
    "credit_card_df.info()"
   ]
  },
  {
   "source": [
    "## TODO: Data Cleaning\n"
   ],
   "cell_type": "markdown",
   "metadata": {}
  }
 ]
}